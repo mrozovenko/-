{
 "cells": [
  {
   "cell_type": "markdown",
   "metadata": {},
   "source": [
    "Задача 1 Какой месяц"
   ]
  },
  {
   "cell_type": "code",
   "execution_count": 1,
   "metadata": {},
   "outputs": [
    {
     "name": "stdout",
     "output_type": "stream",
     "text": [
      "апрель\n"
     ]
    }
   ],
   "source": [
    "month_names = {\n",
    "        1: \"январь\", \n",
    "        2: \"февраль\", \n",
    "        3: \"март\", \n",
    "        4: \"апрель\",\n",
    "        5: \"май\", \n",
    "        6: \"июнь\", \n",
    "        7: \"июль\", \n",
    "        8: \"август\",\n",
    "        9: \"сентябрь\", \n",
    "        10: \"октябрь\",\n",
    "        11: \"ноябрь\", \n",
    "        12: \"декабрь\"\n",
    "    }\n",
    "\n",
    "a  = int(input())\n",
    "print(month_names[a])"
   ]
  },
  {
   "cell_type": "markdown",
   "metadata": {},
   "source": [
    "Задача 2 Наибольший общий делитель"
   ]
  },
  {
   "cell_type": "code",
   "execution_count": 2,
   "metadata": {},
   "outputs": [
    {
     "name": "stdout",
     "output_type": "stream",
     "text": [
      "Наибольший общий делитель чисел 600 и 1012 равен 4\n"
     ]
    }
   ],
   "source": [
    "a = 600\n",
    "b = 1012\n",
    "\n",
    "min_ab = min(a, b)\n",
    "\n",
    "d = 1 \n",
    "for i in range(1, min_ab + 1):\n",
    "    if a % i == 0 and b % i == 0:\n",
    "        d = i \n",
    "\n",
    "print(\"Наибольший общий делитель чисел 600 и 1012 равен\", d)"
   ]
  },
  {
   "cell_type": "markdown",
   "metadata": {},
   "source": [
    "Задача 3 Проверка расширения файла"
   ]
  },
  {
   "cell_type": "code",
   "execution_count": 3,
   "metadata": {},
   "outputs": [
    {
     "name": "stdout",
     "output_type": "stream",
     "text": [
      "Файл 'Моя диссертац.gif' имеет допустимое расширение: 'gif'\n"
     ]
    }
   ],
   "source": [
    "file = 'Моя диссертац.gif'\n",
    "extensions = ['png', 'jpg', 'jpeg', 'gif', 'svg']\n",
    "\n",
    "file_extension = file.split('.')[-1] \n",
    "\n",
    "if file_extension in extensions:\n",
    "    print(f\"Файл '{file}' имеет допустимое расширение: '{file_extension}'\")\n",
    "else:\n",
    "    print(f\"Файл '{file}' имеет недопустимое расширение: '{file_extension}'\")"
   ]
  },
  {
   "cell_type": "markdown",
   "metadata": {},
   "source": [
    "Задача 4 Вискосный Год"
   ]
  },
  {
   "cell_type": "code",
   "execution_count": 4,
   "metadata": {},
   "outputs": [
    {
     "name": "stdout",
     "output_type": "stream",
     "text": [
      "2024 является високосным годом.\n"
     ]
    }
   ],
   "source": [
    "year = int(input())\n",
    "\n",
    "def is_leap_year(year):\n",
    "    if (year % 4 == 0 and year % 100 != 0) or (year % 400 == 0):\n",
    "        return True\n",
    "    else:\n",
    "        return False\n",
    "\n",
    "if is_leap_year(year):\n",
    "    print(f\"{year} является високосным годом.\")\n",
    "else:\n",
    "    print(f\"{year} не является високосным годом.\")"
   ]
  }
 ],
 "metadata": {
  "kernelspec": {
   "display_name": "Python 3",
   "language": "python",
   "name": "python3"
  },
  "language_info": {
   "codemirror_mode": {
    "name": "ipython",
    "version": 3
   },
   "file_extension": ".py",
   "mimetype": "text/x-python",
   "name": "python",
   "nbconvert_exporter": "python",
   "pygments_lexer": "ipython3",
   "version": "3.11.5"
  }
 },
 "nbformat": 4,
 "nbformat_minor": 2
}
