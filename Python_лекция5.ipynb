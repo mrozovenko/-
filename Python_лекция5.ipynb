{
 "cells": [
  {
   "cell_type": "markdown",
   "metadata": {},
   "source": [
    "Средний бал и список отстающих учеников"
   ]
  },
  {
   "cell_type": "code",
   "execution_count": 5,
   "metadata": {},
   "outputs": [
    {
     "name": "stdout",
     "output_type": "stream",
     "text": [
      "Дмитриев Н. 2\n",
      "Котов Д. 2\n",
      "Бирюкова Н. 1\n",
      "Лемонов Ю. 2\n",
      "Средний балл = 3.1818181818181817\n"
     ]
    }
   ],
   "source": [
    "su = 0\n",
    "count=0\n",
    "with open('C:/Users/marga/OneDrive - НИТУ МИСиС/Рабочий стол/Текстовый документ.txt', 'r', encoding='utf-8') as file:\n",
    "    while True:\n",
    "        line = file.readline()\n",
    "        d = line.split()\n",
    "        if not line:\n",
    "            break\n",
    "        su += int(d[2]) \n",
    "        count += 1\n",
    "        # Обработка каждой строки\n",
    "        if int(d[2])  < 3:\n",
    "            print(line.strip())\n",
    "\n",
    "print('Средний балл =',su/count)"
   ]
  },
  {
   "cell_type": "markdown",
   "metadata": {},
   "source": [
    "Посчитать количество определенных слов в файле"
   ]
  },
  {
   "cell_type": "code",
   "execution_count": 8,
   "metadata": {},
   "outputs": [
    {
     "name": "stdout",
     "output_type": "stream",
     "text": [
      "Понедельник\n",
      "Физика (лекц.)\n",
      "Физика (лаб.)\n",
      "Алгебра (практ.)\n",
      "\n",
      "Вторник\n",
      "Геометрия (лекц.)\n",
      "Физика (практ.)\n",
      "Физика (лаба.)\n",
      "Физкультура (практик.)\n",
      "\n",
      "\n",
      "Лекций: 2\n",
      "Практических: 3\n",
      "Лабораторных: 2\n"
     ]
    }
   ],
   "source": [
    "lections = 0\n",
    "lab = 0\n",
    "pract = 0\n",
    "with open('C:/Users/marga/OneDrive - НИТУ МИСиС/Рабочий стол/Текстовый документ (2).txt', 'r', encoding='utf-8') as file:\n",
    "    while True:\n",
    "        line = file.readline()\n",
    "        if not line:\n",
    "            break\n",
    "        d = line.split('(')\n",
    "        if len(d) > 1: \n",
    "            s = d[1].replace(\".)\\n\", \"\")\n",
    "            if 'лекц' in s:\n",
    "                lections += 1\n",
    "            elif 'лаб' in s:\n",
    "                lab += 1\n",
    "            elif 'практ' in s:\n",
    "                pract += 1\n",
    "            \n",
    "        # Обработка каждой строки\n",
    "        print(line.strip())\n",
    "\n",
    "print('\\n\\nЛекций:', lections)\n",
    "print('Практических:', pract)\n",
    "print('Лабораторных:', lab)"
   ]
  }
 ],
 "metadata": {
  "kernelspec": {
   "display_name": "Python 3",
   "language": "python",
   "name": "python3"
  },
  "language_info": {
   "codemirror_mode": {
    "name": "ipython",
    "version": 3
   },
   "file_extension": ".py",
   "mimetype": "text/x-python",
   "name": "python",
   "nbconvert_exporter": "python",
   "pygments_lexer": "ipython3",
   "version": "3.11.5"
  }
 },
 "nbformat": 4,
 "nbformat_minor": 2
}
