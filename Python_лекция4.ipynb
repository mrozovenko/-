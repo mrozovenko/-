{
 "cells": [
  {
   "cell_type": "markdown",
   "metadata": {},
   "source": [
    "Напишите функцию, извлекающую корень n-й степени из числа x. По умолчанию def будет извлекать квадратный корень:"
   ]
  },
  {
   "cell_type": "code",
   "execution_count": 6,
   "metadata": {},
   "outputs": [
    {
     "name": "stdout",
     "output_type": "stream",
     "text": [
      "5.0\n"
     ]
    }
   ],
   "source": [
    "\n",
    "def korn(x,n):\n",
    "    if x < 0 or n <= 0:\n",
    "        return None\n",
    "    else:\n",
    "        return x**(1/n)\n",
    "\n",
    "print(korn(int(input()),int(input())))"
   ]
  },
  {
   "cell_type": "markdown",
   "metadata": {},
   "source": [
    "Перепишите ваш код для проверки расширения из прошлого ДЗ в функцию которая принимает список расширений и имя файла"
   ]
  },
  {
   "cell_type": "code",
   "execution_count": 7,
   "metadata": {},
   "outputs": [
    {
     "name": "stdout",
     "output_type": "stream",
     "text": [
      "Файл 'Моя диссертац.png' имеет расширение: 'png'\n"
     ]
    }
   ],
   "source": [
    "file = 'Моя диссертац.png'\n",
    "extensions = ['png', 'jpg', 'jpeg', 'gif', 'svg']\n",
    "\n",
    "def defin_file(file,extensions):\n",
    "    file_extension = file.split('.')[-1] \n",
    "\n",
    "    if file_extension in extensions:\n",
    "        print(f\"Файл '{file}' имеет расширение: '{file_extension}'\")\n",
    "    else:\n",
    "        print(f\"Файл '{file}' имеет расширение: '{file_extension}'\")\n",
    "\n",
    "defin_file(file,extensions)"
   ]
  },
  {
   "cell_type": "markdown",
   "metadata": {},
   "source": [
    "Слейте воедино три словаря"
   ]
  },
  {
   "cell_type": "code",
   "execution_count": 9,
   "metadata": {},
   "outputs": [
    {
     "name": "stdout",
     "output_type": "stream",
     "text": [
      "{1: 10, 2: 20, 3: 30, 4: 40, 5: 50, 6: 60}\n"
     ]
    }
   ],
   "source": [
    "dict_a = {1: 10, 2: 20}\n",
    "dict_b = {3: 30, 4: 40}\n",
    "dict_c = {5: 50, 6: 60}\n",
    "\n",
    "merged_dict = dict_a | dict_b | dict_c\n",
    "\n",
    "print(merged_dict)"
   ]
  },
  {
   "cell_type": "markdown",
   "metadata": {},
   "source": [
    "Напишите функцию которая будет складывать цифры внутри числа"
   ]
  },
  {
   "cell_type": "code",
   "execution_count": 10,
   "metadata": {},
   "outputs": [
    {
     "name": "stdout",
     "output_type": "stream",
     "text": [
      "Сумма цифр числа: 6\n"
     ]
    }
   ],
   "source": [
    "number = int(input(\"Введите целое число: \"))\n",
    "\n",
    "if not isinstance(number, int):\n",
    "    print(\"Ошибка: Введите целое число.\")\n",
    "else:\n",
    "    if number < 0:\n",
    "        number = -number\n",
    "    total = 0 \n",
    "    \n",
    "    while number > 0: \n",
    "        digit = number % 10 \n",
    "        total = total + digit \n",
    "        number = number // 10 \n",
    "\n",
    "    print(\"Сумма цифр числа:\", total)"
   ]
  },
  {
   "cell_type": "markdown",
   "metadata": {},
   "source": [
    "Нужно проверить, все ли числа в последовательности уникальны"
   ]
  },
  {
   "cell_type": "code",
   "execution_count": 13,
   "metadata": {},
   "outputs": [
    {
     "name": "stdout",
     "output_type": "stream",
     "text": [
      "Все числа в последовательности уникальны\n"
     ]
    }
   ],
   "source": [
    "numbers = [1, 4, 5]\n",
    "\n",
    "def all_unique(numbers):\n",
    "    return len(set(numbers)) == len(numbers)\n",
    "\n",
    "if all_unique(numbers):\n",
    "  print(\"Все числа в последовательности уникальны\")\n",
    "else:\n",
    "  print(\"В последовательности есть повторяющиеся числа\")"
   ]
  },
  {
   "cell_type": "markdown",
   "metadata": {},
   "source": [
    "Создать функцию, которая просто печатает все элементы заданного ей списка:"
   ]
  },
  {
   "cell_type": "code",
   "execution_count": 2,
   "metadata": {},
   "outputs": [
    {
     "name": "stdout",
     "output_type": "stream",
     "text": [
      "НОМЕР 0 --> я\n",
      "НОМЕР 1 --> не\n",
      "НОМЕР 2 --> в\n",
      "НОМЕР 3 --> отпуск\n"
     ]
    }
   ],
   "source": [
    "def print_list(my_list):\n",
    "    i = 0 \n",
    "    while i < len(my_list):  \n",
    "        print(f\"НОМЕР {i} --> {my_list[i]}\")  \n",
    "        i += 1  \n",
    "\n",
    "print_list([\"я\", \"не\", \"в\", \"отпуск\"])"
   ]
  },
  {
   "cell_type": "code",
   "execution_count": 3,
   "metadata": {},
   "outputs": [
    {
     "name": "stdout",
     "output_type": "stream",
     "text": [
      "КЛЮЧ <<key1>> --> 2\n",
      "КЛЮЧ <<key3>> --> False\n",
      "КЛЮЧ <<Приветствие>> --> Hello\n"
     ]
    }
   ],
   "source": [
    "def print_dict(my_dict):\n",
    "    for key, value in my_dict.items():\n",
    "        print(f\"КЛЮЧ <<{key}>> --> {value}\")  \n",
    "\n",
    "\n",
    "print_dict({\"key1\": 2, \"key3\": False, \"Приветствие\": \"Hello\"})"
   ]
  },
  {
   "cell_type": "code",
   "execution_count": 4,
   "metadata": {},
   "outputs": [
    {
     "name": "stdout",
     "output_type": "stream",
     "text": [
      "1\n",
      "НОМЕР 0 --> 1\n",
      "НОМЕР 1 --> 2\n",
      "НОМЕР 2 --> 3\n",
      "НОМЕР 3 --> 4\n",
      "Hello\n",
      "КЛЮЧ <<ciao>> --> Mondo\n",
      "КЛЮЧ <<Привет>> --> О дивный мир\n"
     ]
    }
   ],
   "source": [
    "def print_overlord(mydict):\n",
    "    for value in mydict.values(): \n",
    "        if isinstance(value, list):  # Если значение является списком\n",
    "            print_list(value) \n",
    "        elif isinstance(value, dict):  # Если значение является словарем\n",
    "            print_dict(value)\n",
    "        else: \n",
    "            print(value)\n",
    "\n",
    "print_overlord(dict(key1=1,\n",
    "                    key2=[1, 2, 3, 4], \n",
    "                    key3='Hello', \n",
    "                    key4={\"ciao\": \"Mondo\", \"Привет\": \"О дивный мир\"}))"
   ]
  }
 ],
 "metadata": {
  "kernelspec": {
   "display_name": "Python 3",
   "language": "python",
   "name": "python3"
  },
  "language_info": {
   "codemirror_mode": {
    "name": "ipython",
    "version": 3
   },
   "file_extension": ".py",
   "mimetype": "text/x-python",
   "name": "python",
   "nbconvert_exporter": "python",
   "pygments_lexer": "ipython3",
   "version": "3.11.5"
  }
 },
 "nbformat": 4,
 "nbformat_minor": 2
}
