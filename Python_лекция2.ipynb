{
 "cells": [
  {
   "cell_type": "markdown",
   "metadata": {},
   "source": [
    "Задание 1: Сделайте так, чтобы число секунд отображалось в виде дни:часы:минуты:секунды."
   ]
  },
  {
   "cell_type": "code",
   "execution_count": 8,
   "metadata": {},
   "outputs": [
    {
     "name": "stdout",
     "output_type": "stream",
     "text": [
      "1:19:20:0\n"
     ]
    }
   ],
   "source": [
    "seconds=156000\n",
    "minutes = 0\n",
    "hours = 0\n",
    "days = 0\n",
    "\n",
    "# days\n",
    "if seconds / 60 / 60 / 24 >= 1:\n",
    "    days = (seconds // 60 // 60) // 24\n",
    "    seconds -= days * 24 * 60 * 60\n",
    "\n",
    "# hours\n",
    "if seconds / 60 / 60  >= 1:\n",
    "    hours = seconds // 60 // 60\n",
    "    seconds -= hours * 60 * 60\n",
    "\n",
    "# minutes\n",
    "if seconds / 60  >= 1:\n",
    "    minutes = seconds // 60 \n",
    "    seconds -= minutes * 60 \n",
    " \n",
    "\n",
    "\n",
    "print(days, \":\", hours, \":\", minutes, \":\", seconds, sep = \"\")\n",
    "\n"
   ]
  },
  {
   "cell_type": "markdown",
   "metadata": {},
   "source": [
    "Задание 2 Напишите калькулятор который запрашивает на входе две переменные и знак, и в соответствии с знаком ( + - * / ) выводит результат\n"
   ]
  },
  {
   "cell_type": "code",
   "execution_count": 4,
   "metadata": {},
   "outputs": [
    {
     "name": "stdout",
     "output_type": "stream",
     "text": [
      "30.0\n"
     ]
    }
   ],
   "source": [
    "a = float(input())\n",
    "b = float(input())\n",
    "c = input()\n",
    "\n",
    "print((a*b if c == '*' else\n",
    "       a/b if c == '/' else\n",
    "       a+b if c == '+' else\n",
    "       a-b))"
   ]
  },
  {
   "cell_type": "markdown",
   "metadata": {},
   "source": [
    "Задание 3 Считайте 2 строки и выведите их на печать, разделив символом $.\n",
    "Попробуйте решить эту задачу как минимум 2 способами:\n",
    "\n",
    "1 с помощью конкатенации строк\n",
    "2 с помощью указания разделителя в параметре sep метода print"
   ]
  },
  {
   "cell_type": "code",
   "execution_count": 5,
   "metadata": {},
   "outputs": [
    {
     "name": "stdout",
     "output_type": "stream",
     "text": [
      "3$7\n"
     ]
    }
   ],
   "source": [
    "string1 = input()\n",
    "string2 = input()\n",
    "\n",
    "result = string1 + \"$\" + string2 \n",
    "print(result)"
   ]
  },
  {
   "cell_type": "code",
   "execution_count": 6,
   "metadata": {},
   "outputs": [
    {
     "name": "stdout",
     "output_type": "stream",
     "text": [
      "4$0\n"
     ]
    }
   ],
   "source": [
    "string1 = input()\n",
    "string2 = input()\n",
    "\n",
    "print(string1, string2, sep=\"$\")"
   ]
  },
  {
   "cell_type": "markdown",
   "metadata": {},
   "source": [
    "Задание 4 Напишите поздравление с Днем рождения, где программа считает имя и возраст и выведет поздравление столько раз, сколько лет именнинику"
   ]
  },
  {
   "cell_type": "code",
   "execution_count": 7,
   "metadata": {},
   "outputs": [
    {
     "name": "stdout",
     "output_type": "stream",
     "text": [
      "С Днем рождения, Маргарита! Желаю тебе всего наилучшего!\n",
      "С Днем рождения, Маргарита! Желаю тебе всего наилучшего!\n",
      "С Днем рождения, Маргарита! Желаю тебе всего наилучшего!\n",
      "С Днем рождения, Маргарита! Желаю тебе всего наилучшего!\n",
      "С Днем рождения, Маргарита! Желаю тебе всего наилучшего!\n",
      "С Днем рождения, Маргарита! Желаю тебе всего наилучшего!\n",
      "С Днем рождения, Маргарита! Желаю тебе всего наилучшего!\n",
      "С Днем рождения, Маргарита! Желаю тебе всего наилучшего!\n",
      "С Днем рождения, Маргарита! Желаю тебе всего наилучшего!\n",
      "С Днем рождения, Маргарита! Желаю тебе всего наилучшего!\n",
      "С Днем рождения, Маргарита! Желаю тебе всего наилучшего!\n",
      "С Днем рождения, Маргарита! Желаю тебе всего наилучшего!\n",
      "С Днем рождения, Маргарита! Желаю тебе всего наилучшего!\n",
      "С Днем рождения, Маргарита! Желаю тебе всего наилучшего!\n",
      "С Днем рождения, Маргарита! Желаю тебе всего наилучшего!\n",
      "С Днем рождения, Маргарита! Желаю тебе всего наилучшего!\n",
      "С Днем рождения, Маргарита! Желаю тебе всего наилучшего!\n",
      "С Днем рождения, Маргарита! Желаю тебе всего наилучшего!\n",
      "С Днем рождения, Маргарита! Желаю тебе всего наилучшего!\n",
      "С Днем рождения, Маргарита! Желаю тебе всего наилучшего!\n",
      "С Днем рождения, Маргарита! Желаю тебе всего наилучшего!\n",
      "С Днем рождения, Маргарита! Желаю тебе всего наилучшего!\n"
     ]
    }
   ],
   "source": [
    "name = input(\"Введите имя именинника: \")\n",
    "age = int(input(\"Введите возраст именинника: \"))\n",
    "\n",
    "if age <= 0:\n",
    "  print(\"Возраст должен быть положительным числом.\")\n",
    "else:\n",
    "  for _ in range(age):\n",
    "    print(f\"С Днем рождения, {name}! Желаю тебе всего наилучшего!\")"
   ]
  }
 ],
 "metadata": {
  "kernelspec": {
   "display_name": "Python 3",
   "language": "python",
   "name": "python3"
  },
  "language_info": {
   "codemirror_mode": {
    "name": "ipython",
    "version": 3
   },
   "file_extension": ".py",
   "mimetype": "text/x-python",
   "name": "python",
   "nbconvert_exporter": "python",
   "pygments_lexer": "ipython3",
   "version": "3.11.5"
  }
 },
 "nbformat": 4,
 "nbformat_minor": 2
}
